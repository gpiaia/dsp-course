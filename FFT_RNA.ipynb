{
 "cells": [
  {
   "cell_type": "code",
   "execution_count": 1,
   "metadata": {},
   "outputs": [],
   "source": [
    "import scipy.io\n",
    "import matplotlib.pyplot as plt\n",
    "%matplotlib inline\n",
    "from scipy import fftpack\n",
    "import numpy as np\n",
    "import pandas as pd\n",
    "import sounddevice as sd"
   ]
  },
  {
   "cell_type": "code",
   "execution_count": 2,
   "metadata": {},
   "outputs": [],
   "source": [
    "data = scipy.io.loadmat('bancovozes.mat')\n",
    "\n",
    "dbkids = data['dbkids']\n",
    "dbmen = data['dbmen']\n",
    "dbwomen = data['dbwomen']\n",
    "\n",
    "vozes = pd.DataFrame(np.hstack((dbkids[:][3000:5000], dbwomen[:][3000:5000], dbmen[:][3000:5000])))\n",
    "\n",
    "l_kids = len(dbkids.T)\n",
    "l_men = len(dbmen.T)\n",
    "l_women = len(dbwomen.T)\n",
    "\n",
    "y_dbkids  = np.full((1, l_kids) , 0)\n",
    "y_dbmen   = np.full((1, l_men)  , 1)\n",
    "y_dbwomen = np.full((1, l_women), 3)\n",
    "\n",
    "y = np.concatenate((y_dbkids, y_dbmen, y_dbwomen),axis=1)"
   ]
  },
  {
   "cell_type": "code",
   "execution_count": 3,
   "metadata": {},
   "outputs": [],
   "source": [
    "fft_vozes = []\n",
    "\n",
    "for n in range(len(vozes.T)):\n",
    "    fft_data = np.abs(fftpack.fft(vozes[n][:]))\n",
    "    max_ = np.amax(fft_data)\n",
    "    norm_fft_data = fft_data/max_\n",
    "    fft_vozes.append(norm_fft_data)"
   ]
  },
  {
   "cell_type": "code",
   "execution_count": 21,
   "metadata": {},
   "outputs": [],
   "source": [
    "from sklearn.model_selection import train_test_split\n",
    "from sklearn.neural_network import MLPClassifier\n",
    "from sklearn.metrics import mean_squared_error\n",
    "\n",
    "X_train, X_test, y_train, y_test = train_test_split(fft_vozes,y.T, test_size=0.2)"
   ]
  },
  {
   "cell_type": "code",
   "execution_count": 16,
   "metadata": {},
   "outputs": [],
   "source": [
    "# Define a RNA com solver, numero de neuronios, ...\n",
    "clf = MLPClassifier(activation='logistic', alpha=1e-05, batch_size='auto',\n",
    "              beta_1=0.9, beta_2=0.999, early_stopping=False,\n",
    "              epsilon=1e-08, hidden_layer_sizes=5,\n",
    "              learning_rate='constant', learning_rate_init=0.01,\n",
    "              max_iter=1000, momentum=0.9, n_iter_no_change=10,\n",
    "              nesterovs_momentum=True, power_t=0.5,\n",
    "              shuffle=True, solver='adam', tol=0.0001,\n",
    "validation_fraction=0.1, verbose=False, warm_start=False)"
   ]
  },
  {
   "cell_type": "code",
   "execution_count": 22,
   "metadata": {},
   "outputs": [
    {
     "name": "stderr",
     "output_type": "stream",
     "text": [
      "/home/palmdev/anaconda3/envs/palmdev/lib/python3.7/site-packages/sklearn/neural_network/multilayer_perceptron.py:916: DataConversionWarning: A column-vector y was passed when a 1d array was expected. Please change the shape of y to (n_samples, ), for example using ravel().\n",
      "  y = column_or_1d(y, warn=True)\n"
     ]
    }
   ],
   "source": [
    "# Treina a RNA\n",
    "info = clf.fit(X_train, y_train)"
   ]
  },
  {
   "cell_type": "code",
   "execution_count": 23,
   "metadata": {},
   "outputs": [],
   "source": [
    "# Valores da saida preditos\n",
    "y_predicted = clf.predict(X_test)"
   ]
  },
  {
   "cell_type": "code",
   "execution_count": 24,
   "metadata": {},
   "outputs": [
    {
     "data": {
      "text/plain": [
       "29.09090909090909"
      ]
     },
     "execution_count": 24,
     "metadata": {},
     "output_type": "execute_result"
    }
   ],
   "source": [
    "100*np.count_nonzero(y_predicted-y_test.T)/len(y_test)"
   ]
  },
  {
   "cell_type": "code",
   "execution_count": 25,
   "metadata": {},
   "outputs": [
    {
     "name": "stdout",
     "output_type": "stream",
     "text": [
      "[[ 0  0  0  0  0  0  0  0  0  0  1  0  0  0  0  0  0 -1  0  0  0  0 -2  0\n",
      "   0 -1  0 -1  0  0  0  1  0  0  0  0  0  0  0 -1 -2  0  0  0  0  1  0  1\n",
      "   0  0  0  0  0  0  0  0  1  0  0  1  0  0  0  1  0  0  0 -1  0 -3 -1  0\n",
      "   0 -1 -1  0  0  1  1  0  0 -2  0  0 -1  0  0  0  0  0  0 -3  0  0  0  0\n",
      "   0  2  0  0  0 -1 -2  0  2 -2  0  0  0  0  1 -1  0  1  0  3  0 -3  0 -1\n",
      "   0  0  0  0  0  1  1  0 -1 -1  0  0  0  0 -3  0  3  1  0 -1 -2  0  0 -1\n",
      "   0  3  0  0  0  1  0  0  0  1  0  0  0  0  0  1  0  0  2  0  0  0  0  0\n",
      "   0  0  0 -1  1  0  1  0  1  0 -1  1  0  0  0 -1  0  1  0 -1  1  2 -2  0\n",
      "   0  0 -3  1  0  0  0 -1  0  0  0  1  0  0  0 -1  0  0 -1  0  0  0  0  0\n",
      "   0  1  0  1  0  0  1  0  0  0  0  1  0  0  0  0  0  0  0 -1  0  0  0 -1\n",
      "  -3  0  0 -1  0  0  0  0  0  0  1 -1  0 -1 -2  0 -1  0  0 -2  0  0  0  0\n",
      "   0  0  0  0  0  0  1  1  0  0 -1  0  0  0  0  0  0  1 -2  1  0  0 -1  0\n",
      "   0  0  0  0  0  0  0  0  0  1  0  0  0 -2  1  0 -2  1  0  0  0  0  0  0\n",
      "   0  0  0 -1  0  0  0  0  0  0  0  0  0  0  0  1  1  0]]\n"
     ]
    }
   ],
   "source": [
    "print(y_predicted-y_test.T)"
   ]
  },
  {
   "cell_type": "code",
   "execution_count": null,
   "metadata": {},
   "outputs": [],
   "source": []
  }
 ],
 "metadata": {
  "kernelspec": {
   "display_name": "Python 3",
   "language": "python",
   "name": "python3"
  },
  "language_info": {
   "codemirror_mode": {
    "name": "ipython",
    "version": 3
   },
   "file_extension": ".py",
   "mimetype": "text/x-python",
   "name": "python",
   "nbconvert_exporter": "python",
   "pygments_lexer": "ipython3",
   "version": "3.7.3"
  }
 },
 "nbformat": 4,
 "nbformat_minor": 2
}
